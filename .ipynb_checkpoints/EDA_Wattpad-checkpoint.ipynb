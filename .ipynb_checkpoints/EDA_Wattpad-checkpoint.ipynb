{
 "cells": [
  {
   "cell_type": "code",
   "execution_count": 2,
   "metadata": {},
   "outputs": [],
   "source": [
    "import json\n",
    "import re\n",
    "import pprint"
   ]
  },
  {
   "cell_type": "code",
   "execution_count": 3,
   "metadata": {},
   "outputs": [],
   "source": [
    "with open('story_small.json') as jsonfile:\n",
    "    data = json.load(jsonfile)"
   ]
  },
  {
   "cell_type": "code",
   "execution_count": 4,
   "metadata": {},
   "outputs": [
    {
     "name": "stdout",
     "output_type": "stream",
     "text": [
      "It had been a long and mentally trying day for Xavier, but the end was in sight. So far it had been nothing but the normal medical tests and his overprotective aunt trying to do everything for him. Same old, same old. The hum of his massive motorized wheelchair and the squeak of his aunt's shoes on polished floor lulled him into a strange state of detachment. He had been down this hall so many times that it had become rote.Lurking behind his aunt were six silent bodyguards. Xavier suspected they wouldn't make any noise if they tap-danced across broken glass. Ever present, silent watchers whose eyes never stopped evaluating everything around them for threats.He had lived with his aunt since he could remember. After all these years the permanent, unsmiling, besuited bodyguards had become a familiar part of the background. So much so that Xavier almost didn't notice when the guards opened the doors in front of him, checking for threats before they entered.It wasn't like he couldn't open the doors and walk through the hospital by himself. Well, he could, but the tendency for his skin to split open when he moved without his wheelchair and the tremendous pressure his bulk put on his bones kept him sitting still.Thankfully, there was some light at the end of the tunnel. After years of theories on what was wrong with him, the doctors thought that they had finally figured out a fix for his condition. As the elevator headed down to one of the basement floors for his final checks, Xavier couldn't help but be hopeful.A chime announced the arrival at their floor, and the soft hiss of the doors snapped Xavier out of his reverie. The long, neutral colored hall stretched out into the distance. Pale pastels, intended to be soothing, presented the promise of tedium and wasted time. The bland hall was currently full as a man in a delivery uniform struggled to push a massive crate down the corridor.At a touch from his aunt, Xavier's massive wheelchair hummed out of the elevator and down the hall, the large wheels squeaking against the hospital tile. Xavier looked up at the 8-foot ceiling, thankful that he was sitting. At least sitting down he did not have to duck. Silver linings, right?A nurse coming toward the elevator squeezed past the delivery man with a wheeled bed. Appreciating the soft curve of her backside, the delivery man leaned out for a second look as she passed him. Blocked by the large crate that was in his way, he leaned out to the side, causing his precariously balanced load to shift forward! Twisting to the side, the box began to topple toward the bed.The nurse heard the scrape of the box as it shifted and only had time for a gasp before it came crashing down. In a desperate attempt to shield her patient, she threw herself across the bed and closed her eyes, bracing herself for the pain she knew was coming.Yet the impending crash never came, and a couple seconds later she opened her eyes in confusion, looking up. And up. And up. Met with the sight of the largest person she had ever seen casually holding the massive crate, she stared in open-eyed amazement at the giant who had saved her.Dark hair cropped short above a massive face with a rugged brow and a strong jaw gave the intimation of attractiveness, yet the ideal was ruined by the skin that stretched across his cheekbones, pulling back on the corners of his eyes, nose, and mouth, creating a grotesque caricature of superman. Just bigger. Much, much bigger.The giant smiled at her and she smiled back, lost in the surreal situation until rapid red splashes snapped her out of it.\"Oh, you're bleeding!\" she mumbled, still half in shock as she watched blood rain down from the giant hand that gripped the edge of the box to join a pool of blood that was beginning to form around his feet.\"Well, would you look at that?\" responded Xavier, his deep bass voice echoing through the corridor as the bodyguards swarmed forward.Twenty minutes later, Xavier sat next to his aunt while a nurse finished taking care of his wound.\"Always the hero,\" Julia teased, poking at his broad shoulder. \"You should have left it up to the guards rather than hurting yourself.\"\"You've taught me better than that,\" Xavier said with a slight smile.Soon the doctor arrived and sat down next to Julia, handing her a large stack of papers. Xavier stayed in his wheelchair to avoid towering over the other two or breaking a chair. His hand had been bandaged to prevent additional blood loss, and a nurse had finished taking a blood sample to run some more tests. Holding his bandaged hand to keep the bleeding from starting again, Xavier looked at the doctor with some interest. Rather than the normal boring tests, it seemed from the doctor's expression that something new was going to happen, and whatever it was, it would be a welcome break from the monotony of his normal routine.Ever since he was little and his condition was discovered, Xavier had been stuck in the same routine. Sitting, studying, slow Taijiquan exercises, and doctor's tests. The school and Taijiquan practice were not so bad, but after so many years the sitting and doctor's exams were starting to wear on him. There was very little excitement in his life, a fact that made him hyper-aware of any changes. Speaking of changes, his aunt had been trying to hide something from him, a birthday present most likely, and Xavier wondered if the visit today had something to do with it.For a moment, his thoughts went back to what had happened, and he wondered about the identity of the girl who had been lying on the bed. She was quite attractive and young-looking, though he had a lot of trouble guessing people's ages, as everyone looked rather childish from his perspective. It went without saying that the world looked quite different from his height.As they had progressed down the hall, he had noticed the slight shift in the massive crate and knew it would fall. He had been able to speed up his chair to get close and his arms were long enough to catch the crate as it tipped. The simple motion of catching the crate had put a deep cut into his palm, as his thin skin was stretched so tight it was unable to bear the pressure. The resulting cut brought pain and blood, but at least the others were safe. The pain was nothing to sneeze at, but a lifetime of such injuries had made Xavier all but immune to the feeling.The doctor looked at Xavier and his aunt, Julia Lee, pushing his glasses back on his nose. As Xavier's only surviving relative, Julia still had custody of Xavier until he turned 18 in two years, though no one looking at Xavier's 8' 9\" frame would ever imagine he was only 16 years old.After many years of testing and treatment that yielded no results, a fringe researcher had come up with an idea to help, and through cooperation with the Horizon facility, the doctor was here to suggest it.Going over the information again with Julia and Xavier, the doctor explained, \"Even though we've talked through this exhaustively, Ms. Lee, I still have to take Xavier through the process for the sake of both our legal rights.\"\"Xavier,\" the doctor turned to look at the giant boy. \"If you choose to proceed, you will be undergoing a new type of nanodermatology treatment that is being referred to as CNB, Cutaneous Nanite Bonding. It is a new treatment that has been pioneered by a medical research facility in Switzerland. While it has not been cleared for general use, you have been approved to receive the treatment because it was actually developed using your body as a model. We've been aware of this treatment for a couple years but have been hesitant to suggest it because of your accelerated growth rate. Your tests over the last year have shown a significant decrease in growth so it became an option.\"As you know, your cells are more robust than the average person's which is why we are so confident that the treatment will work. In layman's terms, the treatment will use nanites to restructure the way your cells bond across your body, increasing the strength and elasticity of your skin to the point where it will not tear, strengthening your bones so they can bear your weight, reducing the stress of gravity on your muscles.\"At the end of this process, we expect four things. First, your body is going to increase in density. Much more so than the average person's. This will be due to the way the nanites are restructuring you. Second, your body will be able to support its weight without issue, despite the fact that your weight will be increasing due to the density gain. That means walking, running, all those activities that are not possible for you unassisted, will be possible.\"Third, your skin will loosen, as the nanites will be increasing the surface area of your skin. This should take care of the stretching issue you have without the need for plastic surgery. It will clear up all your stretch marks as well. Last, we anticipate that you will gain less than an inch in height. In fact, you might actually lose a tiny bit of height. This is partly because your tests have shown a clear downward trend in your body's growth hormone over the last few years. Also, because the nanites are going to be creating a very slight compression effect to increase your bone density, your body will be able to support your new weight.\"While this process is ongoing the nanites need to be working 24/7. To that end, our recommendation is that you enter a two year suspended state in the alternate reality of Nova Terra while being monitored by our staff. There have been no problems found with extended suspension and it has been very helpful in long-term treatments of other illnesses, so you have very little to worry about.\"Taking a deep breath, the doctor looked between Xavier and his aunt. \"I know it is a lot to take in, but how does all of this sound? Do you have any questions or concerns?\"\"It is a bit overwhelming, truthfully.\" It took Xavier a couple moments to process before his deep voice rumbled out. \"So I'm going to be dead to the world, out for two years?\"\"Ah, not quite,\" The doctor jumped to his feet and grabbed a stack of papers from a cupboard, handing them to Xavier. \"Suspended animation is a bit different from what you see in the movies. The classic example is someone frozen in ice for some time and then thawed out later, right? That is not what we are talking about. With the advent of Nova Terra, technology has developed to the point where we can take an individual's mind to a new world, leaving their body behind for a short period of time.\"In order to facilitate longer periods of uninterrupted gameplay, Horizon, the company that makes Nova Terra, has developed what they call 'extended suspension' through the use of special game pods that monitor the health of the user and provide nutrition, muscle stimulation, and waste removal. Think of it as an extended vacation from your body.\"\"You'll be playing a game for two years straight,\" cut in Julia.\"Well, actually,\" the doctor said, holding up a finger, \"You will be playing a game for 14 years due to the time dilation. Nova Terra has a pretty drastic time dilation at 7 to 1. So a single hour in the real world is equivalent to seven hours in Nova Terra.\"\"Wait, so I'm going to be 30 when I get out?\" Xavier asked, horrified.\"No, no,\" the doctor laughed, waving his hands. \"You will be 18. Only two actual years will have passed. You will have a total of 30 years of memories when you include the 16 years you have already been alive. It is a pretty interesting phenomenon when you think about it, but it is actually completely natural. In the real world, it is called being in a Flow state, where time seems to shrink or stretch based on the activity you are doing. Nova Terra keeps you in a constant Flow state, stretching time so that you experience seven times as much as you would in the outside world.\"\"That does not seem safe at all.\"\"It is, though. The human brain is a magnificent thing, and we have almost thirty years of research and study that demonstrate no side effects from this. You do not need to worry.\"Xavier had something of a love-hate relationship with games, especially with the full immersion games that had come out within the last twenty years. While he had the mental capacity for any game he could get his hands on, he was hampered by the fact that all of the full immersion games stimulated the muscles of the player to prevent atrophy, which, in his case, would result in his skin being destroyed.Still, Xavier was exceptionally bright. Julia's work brought her into contact with many geniuses in every field and Xavier, who often accompanied her, never had any trouble keeping up with them. Despite his youth, he had finished primary and secondary school years ago and had even completed two degrees, one in Business Management and another in Urban Planning. After all, what else is there to do besides school when you could not move about?It was a shame that, despite his smarts, he was unable to live as a normal person. Xavier had long dreamed of being able to see the new worlds that virtual reality had begun to offer, which made this idea immediately attractive. Xavier glanced at his aunt, who was watching him, trying to guess his feelings about this.Xavier couldn't help himself and let a smile spread across his face. Up to this point, his life had been tedious. It wasn't as if he lacked for anything, no it was the opposite. There was no struggle, no effort needed. If he wanted something, and it wasn't bad for his health, then his doting aunt bought it for him. \n"
     ]
    }
   ],
   "source": [
    "print(data[\"Chapter_1\"])"
   ]
  },
  {
   "cell_type": "code",
   "execution_count": 5,
   "metadata": {},
   "outputs": [
    {
     "data": {
      "text/plain": [
       "13576"
      ]
     },
     "execution_count": 5,
     "metadata": {},
     "output_type": "execute_result"
    }
   ],
   "source": [
    "len(data[\"Chapter_1\"])"
   ]
  },
  {
   "cell_type": "code",
   "execution_count": 6,
   "metadata": {},
   "outputs": [
    {
     "data": {
      "text/plain": [
       "2395"
      ]
     },
     "execution_count": 6,
     "metadata": {},
     "output_type": "execute_result"
    }
   ],
   "source": [
    "split_data = data[\"Chapter_1\"].split(' ')\n",
    "len(split_data)"
   ]
  },
  {
   "cell_type": "code",
   "execution_count": 7,
   "metadata": {},
   "outputs": [
    {
     "data": {
      "text/plain": [
       "['It', 'had', 'been', 'a', 'long']"
      ]
     },
     "execution_count": 7,
     "metadata": {},
     "output_type": "execute_result"
    }
   ],
   "source": [
    "split_data[0:5]"
   ]
  },
  {
   "cell_type": "code",
   "execution_count": 8,
   "metadata": {},
   "outputs": [
    {
     "data": {
      "text/plain": [
       "[\"It had been a long and mentally trying day for Xavier, but the end was in sight. So far it had been nothing but the normal medical tests and his overprotective aunt trying to do everything for him. Same old, same old. The hum of his massive motorized wheelchair and the squeak of his aunt's shoes on polished floor lulled him into a strange state of detachment. He had been down this hall so many times that it had become rote.Lurking behind his aunt were six silent bodyguards. Xavier suspected they wouldn't make any noise if they tap-danced across broken glass. Ever present, silent watchers whose eyes never stopped evaluating everything around them for threats.He had lived with his aunt since he could remember. After all these years the permanent, unsmiling, besuited bodyguards had become a familiar part of the background. So much so that Xavier almost didn't notice when the guards opened the doors in front of him, checking for threats before they entered.It wasn't like he couldn't open the doors and walk through the hospital by himself. Well, he could, but the tendency for his skin to split open when he moved without his wheelchair and the tremendous pressure his bulk put on his bones kept him sitting still.Thankfully, there was some light at the end of the tunnel. After years of theories on what was wrong with him, the doctors thought that they had finally figured out a fix for his condition. As the elevator headed down to one of the basement floors for his final checks, Xavier couldn't help but be hopeful.A chime announced the arrival at their floor, and the soft hiss of the doors snapped Xavier out of his reverie. The long, neutral colored hall stretched out into the distance. Pale pastels, intended to be soothing, presented the promise of tedium and wasted time. The bland hall was currently full as a man in a delivery uniform struggled to push a massive crate down the corridor.At a touch from his aunt, Xavier's massive wheelchair hummed out of the elevator and down the hall, the large wheels squeaking against the hospital tile. Xavier looked up at the 8-foot ceiling, thankful that he was sitting. At least sitting down he did not have to duck. Silver linings, right?A nurse coming toward the elevator squeezed past the delivery man with a wheeled bed. Appreciating the soft curve of her backside, the delivery man leaned out for a second look as she passed him. Blocked by the large crate that was in his way, he leaned out to the side, causing his precariously balanced load to shift forward! Twisting to the side, the box began to topple toward the bed.The nurse heard the scrape of the box as it shifted and only had time for a gasp before it came crashing down. In a desperate attempt to shield her patient, she threw herself across the bed and closed her eyes, bracing herself for the pain she knew was coming.Yet the impending crash never came, and a couple seconds later she opened her eyes in confusion, looking up. And up. And up. Met with the sight of the largest person she had ever seen casually holding the massive crate, she stared in open-eyed amazement at the giant who had saved her.Dark hair cropped short above a massive face with a rugged brow and a strong jaw gave the intimation of attractiveness, yet the ideal was ruined by the skin that stretched across his cheekbones, pulling back on the corners of his eyes, nose, and mouth, creating a grotesque caricature of superman. Just bigger. Much, much bigger.The giant smiled at her and she smiled back, lost in the surreal situation until rapid red splashes snapped her out of it.\",\n",
       " \"Oh, you're bleeding!\",\n",
       " ' she mumbled, still half in shock as she watched blood rain down from the giant hand that gripped the edge of the box to join a pool of blood that was beginning to form around his feet.',\n",
       " 'Well, would you look at that?',\n",
       " ' responded Xavier, his deep bass voice echoing through the corridor as the bodyguards swarmed forward.Twenty minutes later, Xavier sat next to his aunt while a nurse finished taking care of his wound.',\n",
       " 'Always the hero,',\n",
       " ' Julia teased, poking at his broad shoulder. ',\n",
       " 'You should have left it up to the guards rather than hurting yourself.',\n",
       " '',\n",
       " \"You've taught me better than that,\"]"
      ]
     },
     "execution_count": 8,
     "metadata": {},
     "output_type": "execute_result"
    }
   ],
   "source": [
    "data[\"Chapter_1\"].split('\"')[:10]"
   ]
  },
  {
   "cell_type": "code",
   "execution_count": 9,
   "metadata": {},
   "outputs": [],
   "source": [
    "dialogues = re.compile('\"([^\"]*)\"')\n",
    "dias = dialogues.findall(data[\"Chapter_1\"])"
   ]
  },
  {
   "cell_type": "code",
   "execution_count": 10,
   "metadata": {},
   "outputs": [
    {
     "name": "stdout",
     "output_type": "stream",
     "text": [
      "Oh, you're bleeding!\n",
      "Well, would you look at that?\n",
      "Always the hero,\n",
      "You should have left it up to the guards rather than hurting yourself.\n",
      "You've taught me better than that,\n",
      " frame would ever imagine he was only 16 years old.After many years of testing and treatment that yielded no results, a fringe researcher had come up with an idea to help, and through cooperation with the Horizon facility, the doctor was here to suggest it.Going over the information again with Julia and Xavier, the doctor explained, \n",
      "\n",
      " the doctor turned to look at the giant boy. \n",
      "As you know, your cells are more robust than the average person's which is why we are so confident that the treatment will work. In layman's terms, the treatment will use nanites to restructure the way your cells bond across your body, increasing the strength and elasticity of your skin to the point where it will not tear, strengthening your bones so they can bear your weight, reducing the stress of gravity on your muscles.\n",
      "Third, your skin will loosen, as the nanites will be increasing the surface area of your skin. This should take care of the stretching issue you have without the need for plastic surgery. It will clear up all your stretch marks as well. Last, we anticipate that you will gain less than an inch in height. In fact, you might actually lose a tiny bit of height. This is partly because your tests have shown a clear downward trend in your body's growth hormone over the last few years. Also, because the nanites are going to be creating a very slight compression effect to increase your bone density, your body will be able to support your new weight.\n",
      "Taking a deep breath, the doctor looked between Xavier and his aunt. \n",
      "\n",
      " It took Xavier a couple moments to process before his deep voice rumbled out. \n",
      "\n",
      " The doctor jumped to his feet and grabbed a stack of papers from a cupboard, handing them to Xavier. \n",
      "In order to facilitate longer periods of uninterrupted gameplay, Horizon, the company that makes Nova Terra, has developed what they call 'extended suspension' through the use of special game pods that monitor the health of the user and provide nutrition, muscle stimulation, and waste removal. Think of it as an extended vacation from your body.\n",
      "You'll be playing a game for two years straight,\n",
      "Well, actually,\n",
      "You will be playing a game for 14 years due to the time dilation. Nova Terra has a pretty drastic time dilation at 7 to 1. So a single hour in the real world is equivalent to seven hours in Nova Terra.\n",
      "Wait, so I'm going to be 30 when I get out?\n",
      "No, no,\n",
      "You will be 18. Only two actual years will have passed. You will have a total of 30 years of memories when you include the 16 years you have already been alive. It is a pretty interesting phenomenon when you think about it, but it is actually completely natural. In the real world, it is called being in a Flow state, where time seems to shrink or stretch based on the activity you are doing. Nova Terra keeps you in a constant Flow state, stretching time so that you experience seven times as much as you would in the outside world.\n",
      "That does not seem safe at all.\n",
      "It is, though. The human brain is a magnificent thing, and we have almost thirty years of research and study that demonstrate no side effects from this. You do not need to worry.\n"
     ]
    }
   ],
   "source": [
    "for i in dias:\n",
    "    print(i)"
   ]
  },
  {
   "cell_type": "code",
   "execution_count": 11,
   "metadata": {},
   "outputs": [],
   "source": [
    "clean_inch = re.compile('(\\d)(\")')\n",
    "cleaner = clean_inch.search(data[\"Chapter_1\"])"
   ]
  },
  {
   "cell_type": "code",
   "execution_count": 12,
   "metadata": {},
   "outputs": [
    {
     "data": {
      "text/plain": [
       "'9'"
      ]
     },
     "execution_count": 12,
     "metadata": {},
     "output_type": "execute_result"
    }
   ],
   "source": [
    "cleaner.group(1)"
   ]
  },
  {
   "cell_type": "code",
   "execution_count": 13,
   "metadata": {},
   "outputs": [
    {
     "data": {
      "text/plain": [
       "'\"'"
      ]
     },
     "execution_count": 13,
     "metadata": {},
     "output_type": "execute_result"
    }
   ],
   "source": [
    "cleaner.group(2)"
   ]
  },
  {
   "cell_type": "code",
   "execution_count": 14,
   "metadata": {},
   "outputs": [
    {
     "data": {
      "text/plain": [
       "\"It had been a long and mentally trying day for Xavier, but the end was in sight. So far it had been nothing but the normal medical tests and his overprotective aunt trying to do everything for him. Same old, same old. The hum of his massive motorized wheelchair and the squeak of his aunt's shoes on polished floor lulled him into a strange state of detachment. He had been down this hall so many times that it had become rote.Lurking behind his aunt were six silent bodyguards. Xavier suspected they wouldn't make any noise if they tap-danced across broken glass. Ever present, silent watchers whose eyes never stopped evaluating everything around them for threats.He had lived with his aunt since he could remember. After all these years the permanent, unsmiling, besuited bodyguards had become a familiar part of the background. So much so that Xavier almost didn't notice when the guards opened the doors in front of him, checking for threats before they entered.It wasn't like he couldn't open the doors and walk through the hospital by himself. Well, he could, but the tendency for his skin to split open when he moved without his wheelchair and the tremendous pressure his bulk put on his bones kept him sitting still.Thankfully, there was some light at the end of the tunnel. After years of theories on what was wrong with him, the doctors thought that they had finally figured out a fix for his condition. As the elevator headed down to one of the basement floors for his final checks, Xavier couldn't help but be hopeful.A chime announced the arrival at their floor, and the soft hiss of the doors snapped Xavier out of his reverie. The long, neutral colored hall stretched out into the distance. Pale pastels, intended to be soothing, presented the promise of tedium and wasted time. The bland hall was currently full as a man in a delivery uniform struggled to push a massive crate down the corridor.At a touch from his aunt, Xavier's massive wheelchair hummed out of the elevator and down the hall, the large wheels squeaking against the hospital tile. Xavier looked up at the 8-foot ceiling, thankful that he was sitting. At least sitting down he did not have to duck. Silver linings, right?A nurse coming toward the elevator squeezed past the delivery man with a wheeled bed. Appreciating the soft curve of her backside, the delivery man leaned out for a second look as she passed him. Blocked by the large crate that was in his way, he leaned out to the side, causing his precariously balanced load to shift forward! Twisting to the side, the box began to topple toward the bed.The nurse heard the scrape of the box as it shifted and only had time for a gasp before it came crashing down. In a desperate attempt to shield her patient, she threw herself across the bed and closed her eyes, bracing herself for the pain she knew was coming.Yet the impending crash never came, and a couple seconds later she opened her eyes in confusion, looking up. And up. And up. Met with the sight of the largest person she had ever seen casually holding the massive crate, she stared in open-eyed amazement at the giant who had saved her.Dark hair cropped short above a massive face with a rugged brow and a strong jaw gave the intimation of attractiveness, yet the ideal was ruined by the skin that stretched across his cheekbones, pulling back on the corners of his eyes, nose, and mouth, creating a grotesque caricature of superman. Just bigger. Much, much bigger.The giant smiled at her and she smiled back, lost in the surreal situation until rapid red splashes snapped her out of it. inchesOh, you're bleeding! inches she mumbled, still half in shock as she watched blood rain down from the giant hand that gripped the edge of the box to join a pool of blood that was beginning to form around his feet. inchesWell, would you look at that? inches responded Xavier, his deep bass voice echoing through the corridor as the bodyguards swarmed forward.Twenty minutes later, Xavier sat next to his aunt while a nurse finished taking care of his wound. inchesAlways the hero, inches Julia teased, poking at his broad shoulder.  inchesYou should have left it up to the guards rather than hurting yourself. inches inchesYou've taught me better than that, inches Xavier said with a slight smile.Soon the doctor arrived and sat down next to Julia, handing her a large stack of papers. Xavier stayed in his wheelchair to avoid towering over the other two or breaking a chair. His hand had been bandaged to prevent additional blood loss, and a nurse had finished taking a blood sample to run some more tests. Holding his bandaged hand to keep the bleeding from starting again, Xavier looked at the doctor with some interest. Rather than the normal boring tests, it seemed from the doctor's expression that something new was going to happen, and whatever it was, it would be a welcome break from the monotony of his normal routine.Ever since he was little and his condition was discovered, Xavier had been stuck in the same routine. Sitting, studying, slow Taijiquan exercises, and doctor's tests. The school and Taijiquan practice were not so bad, but after so many years the sitting and doctor's exams were starting to wear on him. There was very little excitement in his life, a fact that made him hyper-aware of any changes. Speaking of changes, his aunt had been trying to hide something from him, a birthday present most likely, and Xavier wondered if the visit today had something to do with it.For a moment, his thoughts went back to what had happened, and he wondered about the identity of the girl who had been lying on the bed. She was quite attractive and young-looking, though he had a lot of trouble guessing people's ages, as everyone looked rather childish from his perspective. It went without saying that the world looked quite different from his height.As they had progressed down the hall, he had noticed the slight shift in the massive crate and knew it would fall. He had been able to speed up his chair to get close and his arms were long enough to catch the crate as it tipped. The simple motion of catching the crate had put a deep cut into his palm, as his thin skin was stretched so tight it was unable to bear the pressure. The resulting cut brought pain and blood, but at least the others were safe. The pain was nothing to sneeze at, but a lifetime of such injuries had made Xavier all but immune to the feeling.The doctor looked at Xavier and his aunt, Julia Lee, pushing his glasses back on his nose. As Xavier's only surviving relative, Julia still had custody of Xavier until he turned 18 in two years, though no one looking at Xavier's 8' 9 inches frame would ever imagine he was only 16 years old.After many years of testing and treatment that yielded no results, a fringe researcher had come up with an idea to help, and through cooperation with the Horizon facility, the doctor was here to suggest it.Going over the information again with Julia and Xavier, the doctor explained,  inchesEven though we've talked through this exhaustively, Ms. Lee, I still have to take Xavier through the process for the sake of both our legal rights. inches inchesXavier, inches the doctor turned to look at the giant boy.  inchesIf you choose to proceed, you will be undergoing a new type of nanodermatology treatment that is being referred to as CNB, Cutaneous Nanite Bonding. It is a new treatment that has been pioneered by a medical research facility in Switzerland. While it has not been cleared for general use, you have been approved to receive the treatment because it was actually developed using your body as a model. We've been aware of this treatment for a couple years but have been hesitant to suggest it because of your accelerated growth rate. Your tests over the last year have shown a significant decrease in growth so it became an option. inchesAs you know, your cells are more robust than the average person's which is why we are so confident that the treatment will work. In layman's terms, the treatment will use nanites to restructure the way your cells bond across your body, increasing the strength and elasticity of your skin to the point where it will not tear, strengthening your bones so they can bear your weight, reducing the stress of gravity on your muscles. inchesAt the end of this process, we expect four things. First, your body is going to increase in density. Much more so than the average person's. This will be due to the way the nanites are restructuring you. Second, your body will be able to support its weight without issue, despite the fact that your weight will be increasing due to the density gain. That means walking, running, all those activities that are not possible for you unassisted, will be possible. inchesThird, your skin will loosen, as the nanites will be increasing the surface area of your skin. This should take care of the stretching issue you have without the need for plastic surgery. It will clear up all your stretch marks as well. Last, we anticipate that you will gain less than an inch in height. In fact, you might actually lose a tiny bit of height. This is partly because your tests have shown a clear downward trend in your body's growth hormone over the last few years. Also, because the nanites are going to be creating a very slight compression effect to increase your bone density, your body will be able to support your new weight. inchesWhile this process is ongoing the nanites need to be working 24/7. To that end, our recommendation is that you enter a two year suspended state in the alternate reality of Nova Terra while being monitored by our staff. There have been no problems found with extended suspension and it has been very helpful in long-term treatments of other illnesses, so you have very little to worry about. inchesTaking a deep breath, the doctor looked between Xavier and his aunt.  inchesI know it is a lot to take in, but how does all of this sound? Do you have any questions or concerns? inches inchesIt is a bit overwhelming, truthfully. inches It took Xavier a couple moments to process before his deep voice rumbled out.  inchesSo I'm going to be dead to the world, out for two years? inches inchesAh, not quite, inches The doctor jumped to his feet and grabbed a stack of papers from a cupboard, handing them to Xavier.  inchesSuspended animation is a bit different from what you see in the movies. The classic example is someone frozen in ice for some time and then thawed out later, right? That is not what we are talking about. With the advent of Nova Terra, technology has developed to the point where we can take an individual's mind to a new world, leaving their body behind for a short period of time. inchesIn order to facilitate longer periods of uninterrupted gameplay, Horizon, the company that makes Nova Terra, has developed what they call 'extended suspension' through the use of special game pods that monitor the health of the user and provide nutrition, muscle stimulation, and waste removal. Think of it as an extended vacation from your body. inches inchesYou'll be playing a game for two years straight, inches cut in Julia. inchesWell, actually, inches the doctor said, holding up a finger,  inchesYou will be playing a game for 14 years due to the time dilation. Nova Terra has a pretty drastic time dilation at 7 to 1. So a single hour in the real world is equivalent to seven hours in Nova Terra. inches inchesWait, so I'm going to be 30 when I get out? inches Xavier asked, horrified. inchesNo, no, inches the doctor laughed, waving his hands.  inchesYou will be 18. Only two actual years will have passed. You will have a total of 30 years of memories when you include the 16 years you have already been alive. It is a pretty interesting phenomenon when you think about it, but it is actually completely natural. In the real world, it is called being in a Flow state, where time seems to shrink or stretch based on the activity you are doing. Nova Terra keeps you in a constant Flow state, stretching time so that you experience seven times as much as you would in the outside world. inches inchesThat does not seem safe at all. inches inchesIt is, though. The human brain is a magnificent thing, and we have almost thirty years of research and study that demonstrate no side effects from this. You do not need to worry. inchesXavier had something of a love-hate relationship with games, especially with the full immersion games that had come out within the last twenty years. While he had the mental capacity for any game he could get his hands on, he was hampered by the fact that all of the full immersion games stimulated the muscles of the player to prevent atrophy, which, in his case, would result in his skin being destroyed.Still, Xavier was exceptionally bright. Julia's work brought her into contact with many geniuses in every field and Xavier, who often accompanied her, never had any trouble keeping up with them. Despite his youth, he had finished primary and secondary school years ago and had even completed two degrees, one in Business Management and another in Urban Planning. After all, what else is there to do besides school when you could not move about?It was a shame that, despite his smarts, he was unable to live as a normal person. Xavier had long dreamed of being able to see the new worlds that virtual reality had begun to offer, which made this idea immediately attractive. Xavier glanced at his aunt, who was watching him, trying to guess his feelings about this.Xavier couldn't help himself and let a smile spread across his face. Up to this point, his life had been tedious. It wasn't as if he lacked for anything, no it was the opposite. There was no struggle, no effort needed. If he wanted something, and it wasn't bad for his health, then his doting aunt bought it for him.\\xa0\""
      ]
     },
     "execution_count": 14,
     "metadata": {},
     "output_type": "execute_result"
    }
   ],
   "source": [
    "re.sub(cleaner.group(2), ' inches', data['Chapter_1'])"
   ]
  },
  {
   "cell_type": "code",
   "execution_count": 15,
   "metadata": {},
   "outputs": [
    {
     "name": "stdout",
     "output_type": "stream",
     "text": [
      "Forget the fact that he was many times richer than she was, she wouldn't even let him use the absurd amount of money his parents had left him. Hemmed in and coddled by all who met him, the thing he wanted the most was freedom, and the idea of being in an adventure game like Nova Terra was an amazing opportunity to get that freedom.Julia Lee gave a small sigh of relief. She knew her nephew well and it was obvious that Xavier was excited about this idea. After a few more minutes of talking some of the details through, she nodded at the doctor. Xavier would be sent into the game where he would spend the next two years of real time while the treatment worked to repair his body.The papers signed and a date set for the following week, Xavier and Julia made their way out of the hospital and toward the massive all-terrain vehicle that they drove. However, as soon as they exited the hospital doors, the flash of lights announced the gathering of paparazzi that seemed to follow Julia around like gnats.\"Ms. Lee, Ms. Lee, is it true that you are engaged?\"\"Ms. Lee, what are your thoughts on the rising energy costs?\"\"Ms. Lee, you are being accused of setting up a hostile takeover of DeHauser Energy. Do you have any comments on that?\"Their security was expecting it, and it wasn't long before they were able to force their way through to the car. Pushing past the crowding reporters, the leader of the security team opened the butterfly door of their vehicle and pulled down the ramp before guiding Xavier's chair up into the car and into its place where it locked in.\"Thanks, Henry,\" Xavier nodded at the guard.\"Of course, Master Xavier,\" the guard responded, his stern face breaking into a smile. All of Julia's employees adored their giant charge. Glancing back at the paparazzi pushing against the rest of the security team, Henry grimaced. \"Sorry about all the noise, sir. Next time we'll use the private entrance.\"\"It's not a problem, Henry. The pictures are good for my aunt's publicity.\"Julia, a drop-dead gorgeous blonde with a figure that even gods would kill for, was the most eligible bachelorette in the world, helped, of course, by the fact that she was also a minority shareholder and the CEO of Atlas, the largest energy company in the world. Rich, smart and beautiful, it was no wonder that the tabloids followed her like puppies. Seeing her grumble, Xavier couldn't hold in his smile.The majority of the ride home was spent discussing Xavier's coming immersion. Julia had played Nova Terra since its release and was well established. Combined with the fact that the majority of her business was done in the virtual city of Fantasia, Julia was well versed with virtual reality.\"Xavier, you should join me when you get into Nova Terra. This game is not the same as other games, and it takes a lot of work to get established.\" Julia flipped her hair over her shoulder.\"Come on, you know that work is the last thing I'm afraid of,\" replied Xavier with a smile.\"I know, I know. But you don't understand how different it is. It is not like any MMO that you have ever played. There is no grinding, no leveling up, no health bars or anything like that. It's pretty much real life and it's as dangerous. To some extent, it is like the wild west. Untamed and lawless. Unless you have the strength to protect yourself, you are at the mercy of other players.\"\"What about quests and storylines?\" asked Xavier. \"Don't games have to have a story?\"\"They practically don't exist,\" grumbled Julia. \"Normal games have level progression; Nova Terra only has mastery. There are no experience points or anything of the sort. Want to learn to fight with a sword? Start practicing. Want to learn magic? Figure it out. There is no system assist or any sort of auto-targeting. The same is true of storylines. At least, there isn't a 'story' that anyone has discovered. The game has history, but there is no final boss.\"\"Wait, then what do you do?\"\"You do what you want to do. You can do anything. You can live in a city and make shoes for NPCs. You can join a pioneering expedition and settle a wilderness town. You can hunt monsters and slay dragons. Well, not that last one. At least, no one has been able to yet. We're working on it, though.\"\"You've been playing for some time, right? What have you been doing?\" asked Xavier. He knew his aunt played Nova Terra, but they had never talked about it since he wasn't able to participate, and she didn't want to make him jealous.\"Oh man, let me tell you! We have the best mercenary corps in the entire game. Prettiest, too,\" replied Julia with a smug look. \"But this illustrates my point. It took me four years in real time to build up the Society of Roses. That is almost 30 years in Nova Terra! You can't step into the game and expect to make quick progress.\"First I had to establish the group and then gather players. I mean, it took countless years for everyone to train to the point where they were good enough at fighting to actually complete the missions! And that is not even taking into account our reputation as a group. We only managed to get a permit to build our headquarters in the capital a year ago. If you take the time dilation into account it actually took us 21 years in game. 21 years of calculated moves and hard work.\"We had to work our way up, managing our relationships with other groups and the powers in the world. Because it is not like a game where each NPC has a couple quests and lines of dialogue. They all have their own lives. To the point that you could accept a quest and then come back and find that the person who gave it to you went and died. Or started a new business. Or got married or had a kid. At the end of the day, Nova Terra is another world. And like the real world, life moves along without you. If you're serious about going it alone, you'd better be prepared to work for what you want. If you put in the time and effort, you will be okay. Nothing of value is going to come easy, but everything is achievable.\"Furrowing his brow, Xavier thought for a minute, his eyes drifting across the scenery outside his window.\"Then where is the fun? Isn't the point of a game to provide entertainment? If Nova Terra is so hard, how is that different than real life? There has to be something about it that draws people in. I mean, almost 70% of the world plays.\"\"Oh, don't get me wrong. It is fun. Really fun. It isn't as uncomfortable as real life. Like, you don't sweat no matter how hot you get. Everyone's hair looks great no matter how much you have been running. It is like life, but with most of the uncomfortable and inconvenient parts edited out. But Nova Terra is more than that. When it first came out, it was a game, but when they built Fantasia it became as important as the real world.\"\"Fantasia? You mean the city? Isn't Fantasia in the Nova Terra?\"\"Not quite. It sits parallel to it. So you can hop back and forth. Think same universe, different planet. I do almost all of my business there because of the time dilation. That is the only way I have time to play.\" Julia smirked. \"Almost everyone in the business world uses Fantasia to handle their business and Nova Terra to relax.\"Seeing the large smile on his aunt's face, Xavier couldn't help but think back over the many years he had lived with her. She had gained custody of him from birth after a tragic accident left his parents dead. Julia, only nineteen at the time, had stepped up to play the part of both mother and father to him. Not to mention, Julia had taken on a leadership role in his parents' multi-million dollar energy corporation.Xavier hadn't even made it to the hospital to be born when a drunk driver turned his parents' joy at the coming birth of their first child to a nightmare. His parents had survived long enough to be brought back to the hospital emergency room, but both passed away during surgery. Miraculously, Xavier survived both the crash and the emergency c-section that followed. His aunt rushed to the hospital only to find her sister and brother-in-law dead.Xavier had grown at a furious rate, dwarfing other children of similar age. His bones and muscles grew so strong and dense that he was walking by the time he was two months old and was almost four feet tall by the time he was one. This astounding growth left the pediatricians who were monitoring him dumbfounded. His ever-increasing diet fueled his rapid growth, and the doctors could only attribute it to some unknown form of gigantism.As he got older, he began having problems. His bones, organs, and skin struggled to keep up with his massive frame. Almost daily his skin would stretch and split, leaving bloody trails across his body as his skin cells tried to duplicate. Despite his abnormal strength and the size of his bones, gravity began to prove too much for him. Facing this difficult situation, the doctors were at a complete loss, trying one failed treatment after another.For the past sixteen years, Xavier had gone in and out of hospitals around the world, trying every conceivable method to solve the issue with his body. His aunt, who had proved to be a successful businesswoman in her own right, had spared no expense. She wasted a veritable fortune on treatment and research no matter how obscure.Xavier was a gift from the gods as far as medical researchers were concerned. Due to his strange condition that doctors still had not identified, he suffered close to zero cell degeneration in combination with energetic bone growth, which would have been a dream come true if it were not for the fact that Xavier's skin did not share this trait and could not keep up with the massive increases in muscle and bone growth that he experienced.Normally, an object that grew in size was subject to the square-cube law. In short, the square-cube law stated that as something grows or diminishes, its volume grows and shrinks faster than its surface area. The larger something is, the greater its volume in relation to its surface area. Consequently, most humans with gigantism found that their bones, muscles, organs, and tendons could not keep up with their body's increased volume, causing them to struggle to support their new weight.Growing to the same height as Xavier, a person would be at least 16 times stronger than the typical six-foot adult. However, the square-cube law stated that at the same time, the strength to weight ratio would change from 1:1 to 1:4. That is, the person would be four times heavier than they were strong, causing them to collapse under their own body weight.In this unprecedented case, Xavier's muscles and bones were almost 32 times stronger than normal, allowing him to move his 840 pound body like a regular sized person. However, despite the fact that Xavier's body was much stronger than was reasonable for someone with his condition, far surpassing the limits of normal humans, his weight still caused him to struggle to support his body.In fact, by standing to his feet, he easily broke the World's Strongest Man deadlift record. Unfortunately, the pressure of gravity on his bones had caused numerous stress fractures in his hips and legs over the years, and, by the age of eight, Xavier had found himself unable to walk without a mechanized brace.To complicate his situation, his medical condition caused him to be threatened by the danger of literally ripping through his own skin. The result of his massive musculature meant that any sudden action would cause his skin to tear open, accompanied of course by lots of blood and pain. Careful movement was still possible, and through technological aids like his electric wheelchair and his mechanized brace, his life could have a modicum of normalcy.However, the real mystery was Xavier's synaptic response time. This was a conundrum that left every scientist and doctor in the world puzzled beyond belief. The electrical impulse from the brain to a part of the body travels around 220 miles per hour, causing the average reaction time of a human to be 0.22 seconds. However, due to his increased size, physics would anticipate that Xavier's response time would fall to 0.98 seconds, under five times slower.Yet, despite all of this, Xavier exhibited the opposite. His average reaction time was 0.14 seconds, comparable to that of the best athletes in the world. Many theories evolved as to how such a large body could produce such an astounding reaction time. The best theory to date suggested that Xavier's nervous system was both larger and more robust than the average person's. This meant that the amount of information that could pass through it was greater, allowing for better information flow.Unfortunately, despite his body performing above and beyond the norm in some ways, Xavier was, without question, handicapped by his extreme weight and his inability to prevent himself from being injured at every turn. Sitting still, Xavier was normal, yet he was unable to live even close to a normal life. He had spent more time in a wheelchair than out of one, and it was only the carefully curated lifestyle that his aunt forced on him that kept him in good shape.\n"
     ]
    }
   ],
   "source": [
    "print(data[\"Chapter_2\"])"
   ]
  },
  {
   "cell_type": "code",
   "execution_count": null,
   "metadata": {},
   "outputs": [],
   "source": []
  }
 ],
 "metadata": {
  "kernelspec": {
   "display_name": "Python [conda env:snowflakes]",
   "language": "python",
   "name": "conda-env-snowflakes-py"
  },
  "language_info": {
   "codemirror_mode": {
    "name": "ipython",
    "version": 3
   },
   "file_extension": ".py",
   "mimetype": "text/x-python",
   "name": "python",
   "nbconvert_exporter": "python",
   "pygments_lexer": "ipython3",
   "version": "3.8.5"
  }
 },
 "nbformat": 4,
 "nbformat_minor": 4
}
