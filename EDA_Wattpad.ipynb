{
 "cells": [
  {
   "cell_type": "code",
   "execution_count": 12,
   "metadata": {},
   "outputs": [],
   "source": [
    "import json\n",
    "import re\n",
    "import pprint"
   ]
  },
  {
   "cell_type": "code",
   "execution_count": 2,
   "metadata": {},
   "outputs": [],
   "source": [
    "with open('story_small.json') as jsonfile:\n",
    "    data = json.load(jsonfile)"
   ]
  },
  {
   "cell_type": "code",
   "execution_count": 4,
   "metadata": {},
   "outputs": [
    {
     "name": "stdout",
     "output_type": "stream",
     "text": [
      "It had been a long and mentally trying day for Xavier, but the end was in sight. So far it had been nothing but the normal medical tests and his overprotective aunt trying to do everything for him. Same old, same old. The hum of his massive motorized wheelchair and the squeak of his aunt's shoes on polished floor lulled him into a strange state of detachment. He had been down this hall so many times that it had become rote.Lurking behind his aunt were six silent bodyguards. Xavier suspected they wouldn't make any noise if they tap-danced across broken glass. Ever present, silent watchers whose eyes never stopped evaluating everything around them for threats.He had lived with his aunt since he could remember. After all these years the permanent, unsmiling, besuited bodyguards had become a familiar part of the background. So much so that Xavier almost didn't notice when the guards opened the doors in front of him, checking for threats before they entered.It wasn't like he couldn't open the doors and walk through the hospital by himself. Well, he could, but the tendency for his skin to split open when he moved without his wheelchair and the tremendous pressure his bulk put on his bones kept him sitting still.Thankfully, there was some light at the end of the tunnel. After years of theories on what was wrong with him, the doctors thought that they had finally figured out a fix for his condition. As the elevator headed down to one of the basement floors for his final checks, Xavier couldn't help but be hopeful.A chime announced the arrival at their floor, and the soft hiss of the doors snapped Xavier out of his reverie. The long, neutral colored hall stretched out into the distance. Pale pastels, intended to be soothing, presented the promise of tedium and wasted time. The bland hall was currently full as a man in a delivery uniform struggled to push a massive crate down the corridor.At a touch from his aunt, Xavier's massive wheelchair hummed out of the elevator and down the hall, the large wheels squeaking against the hospital tile. Xavier looked up at the 8-foot ceiling, thankful that he was sitting. At least sitting down he did not have to duck. Silver linings, right?A nurse coming toward the elevator squeezed past the delivery man with a wheeled bed. Appreciating the soft curve of her backside, the delivery man leaned out for a second look as she passed him. Blocked by the large crate that was in his way, he leaned out to the side, causing his precariously balanced load to shift forward! Twisting to the side, the box began to topple toward the bed.The nurse heard the scrape of the box as it shifted and only had time for a gasp before it came crashing down. In a desperate attempt to shield her patient, she threw herself across the bed and closed her eyes, bracing herself for the pain she knew was coming.Yet the impending crash never came, and a couple seconds later she opened her eyes in confusion, looking up. And up. And up. Met with the sight of the largest person she had ever seen casually holding the massive crate, she stared in open-eyed amazement at the giant who had saved her.Dark hair cropped short above a massive face with a rugged brow and a strong jaw gave the intimation of attractiveness, yet the ideal was ruined by the skin that stretched across his cheekbones, pulling back on the corners of his eyes, nose, and mouth, creating a grotesque caricature of superman. Just bigger. Much, much bigger.The giant smiled at her and she smiled back, lost in the surreal situation until rapid red splashes snapped her out of it.\"Oh, you're bleeding!\" she mumbled, still half in shock as she watched blood rain down from the giant hand that gripped the edge of the box to join a pool of blood that was beginning to form around his feet.\"Well, would you look at that?\" responded Xavier, his deep bass voice echoing through the corridor as the bodyguards swarmed forward.Twenty minutes later, Xavier sat next to his aunt while a nurse finished taking care of his wound.\"Always the hero,\" Julia teased, poking at his broad shoulder. \"You should have left it up to the guards rather than hurting yourself.\"\"You've taught me better than that,\" Xavier said with a slight smile.Soon the doctor arrived and sat down next to Julia, handing her a large stack of papers. Xavier stayed in his wheelchair to avoid towering over the other two or breaking a chair. His hand had been bandaged to prevent additional blood loss, and a nurse had finished taking a blood sample to run some more tests. Holding his bandaged hand to keep the bleeding from starting again, Xavier looked at the doctor with some interest. Rather than the normal boring tests, it seemed from the doctor's expression that something new was going to happen, and whatever it was, it would be a welcome break from the monotony of his normal routine.Ever since he was little and his condition was discovered, Xavier had been stuck in the same routine. Sitting, studying, slow Taijiquan exercises, and doctor's tests. The school and Taijiquan practice were not so bad, but after so many years the sitting and doctor's exams were starting to wear on him. There was very little excitement in his life, a fact that made him hyper-aware of any changes. Speaking of changes, his aunt had been trying to hide something from him, a birthday present most likely, and Xavier wondered if the visit today had something to do with it.For a moment, his thoughts went back to what had happened, and he wondered about the identity of the girl who had been lying on the bed. She was quite attractive and young-looking, though he had a lot of trouble guessing people's ages, as everyone looked rather childish from his perspective. It went without saying that the world looked quite different from his height.As they had progressed down the hall, he had noticed the slight shift in the massive crate and knew it would fall. He had been able to speed up his chair to get close and his arms were long enough to catch the crate as it tipped. The simple motion of catching the crate had put a deep cut into his palm, as his thin skin was stretched so tight it was unable to bear the pressure. The resulting cut brought pain and blood, but at least the others were safe. The pain was nothing to sneeze at, but a lifetime of such injuries had made Xavier all but immune to the feeling.The doctor looked at Xavier and his aunt, Julia Lee, pushing his glasses back on his nose. As Xavier's only surviving relative, Julia still had custody of Xavier until he turned 18 in two years, though no one looking at Xavier's 8' 9\" frame would ever imagine he was only 16 years old.After many years of testing and treatment that yielded no results, a fringe researcher had come up with an idea to help, and through cooperation with the Horizon facility, the doctor was here to suggest it.Going over the information again with Julia and Xavier, the doctor explained, \"Even though we've talked through this exhaustively, Ms. Lee, I still have to take Xavier through the process for the sake of both our legal rights.\"\"Xavier,\" the doctor turned to look at the giant boy. \"If you choose to proceed, you will be undergoing a new type of nanodermatology treatment that is being referred to as CNB, Cutaneous Nanite Bonding. It is a new treatment that has been pioneered by a medical research facility in Switzerland. While it has not been cleared for general use, you have been approved to receive the treatment because it was actually developed using your body as a model. We've been aware of this treatment for a couple years but have been hesitant to suggest it because of your accelerated growth rate. Your tests over the last year have shown a significant decrease in growth so it became an option.\"As you know, your cells are more robust than the average person's which is why we are so confident that the treatment will work. In layman's terms, the treatment will use nanites to restructure the way your cells bond across your body, increasing the strength and elasticity of your skin to the point where it will not tear, strengthening your bones so they can bear your weight, reducing the stress of gravity on your muscles.\"At the end of this process, we expect four things. First, your body is going to increase in density. Much more so than the average person's. This will be due to the way the nanites are restructuring you. Second, your body will be able to support its weight without issue, despite the fact that your weight will be increasing due to the density gain. That means walking, running, all those activities that are not possible for you unassisted, will be possible.\"Third, your skin will loosen, as the nanites will be increasing the surface area of your skin. This should take care of the stretching issue you have without the need for plastic surgery. It will clear up all your stretch marks as well. Last, we anticipate that you will gain less than an inch in height. In fact, you might actually lose a tiny bit of height. This is partly because your tests have shown a clear downward trend in your body's growth hormone over the last few years. Also, because the nanites are going to be creating a very slight compression effect to increase your bone density, your body will be able to support your new weight.\"While this process is ongoing the nanites need to be working 24/7. To that end, our recommendation is that you enter a two year suspended state in the alternate reality of Nova Terra while being monitored by our staff. There have been no problems found with extended suspension and it has been very helpful in long-term treatments of other illnesses, so you have very little to worry about.\"Taking a deep breath, the doctor looked between Xavier and his aunt. \"I know it is a lot to take in, but how does all of this sound? Do you have any questions or concerns?\"\"It is a bit overwhelming, truthfully.\" It took Xavier a couple moments to process before his deep voice rumbled out. \"So I'm going to be dead to the world, out for two years?\"\"Ah, not quite,\" The doctor jumped to his feet and grabbed a stack of papers from a cupboard, handing them to Xavier. \"Suspended animation is a bit different from what you see in the movies. The classic example is someone frozen in ice for some time and then thawed out later, right? That is not what we are talking about. With the advent of Nova Terra, technology has developed to the point where we can take an individual's mind to a new world, leaving their body behind for a short period of time.\"In order to facilitate longer periods of uninterrupted gameplay, Horizon, the company that makes Nova Terra, has developed what they call 'extended suspension' through the use of special game pods that monitor the health of the user and provide nutrition, muscle stimulation, and waste removal. Think of it as an extended vacation from your body.\"\"You'll be playing a game for two years straight,\" cut in Julia.\"Well, actually,\" the doctor said, holding up a finger, \"You will be playing a game for 14 years due to the time dilation. Nova Terra has a pretty drastic time dilation at 7 to 1. So a single hour in the real world is equivalent to seven hours in Nova Terra.\"\"Wait, so I'm going to be 30 when I get out?\" Xavier asked, horrified.\"No, no,\" the doctor laughed, waving his hands. \"You will be 18. Only two actual years will have passed. You will have a total of 30 years of memories when you include the 16 years you have already been alive. It is a pretty interesting phenomenon when you think about it, but it is actually completely natural. In the real world, it is called being in a Flow state, where time seems to shrink or stretch based on the activity you are doing. Nova Terra keeps you in a constant Flow state, stretching time so that you experience seven times as much as you would in the outside world.\"\"That does not seem safe at all.\"\"It is, though. The human brain is a magnificent thing, and we have almost thirty years of research and study that demonstrate no side effects from this. You do not need to worry.\"Xavier had something of a love-hate relationship with games, especially with the full immersion games that had come out within the last twenty years. While he had the mental capacity for any game he could get his hands on, he was hampered by the fact that all of the full immersion games stimulated the muscles of the player to prevent atrophy, which, in his case, would result in his skin being destroyed.Still, Xavier was exceptionally bright. Julia's work brought her into contact with many geniuses in every field and Xavier, who often accompanied her, never had any trouble keeping up with them. Despite his youth, he had finished primary and secondary school years ago and had even completed two degrees, one in Business Management and another in Urban Planning. After all, what else is there to do besides school when you could not move about?It was a shame that, despite his smarts, he was unable to live as a normal person. Xavier had long dreamed of being able to see the new worlds that virtual reality had begun to offer, which made this idea immediately attractive. Xavier glanced at his aunt, who was watching him, trying to guess his feelings about this.Xavier couldn't help himself and let a smile spread across his face. Up to this point, his life had been tedious. It wasn't as if he lacked for anything, no it was the opposite. There was no struggle, no effort needed. If he wanted something, and it wasn't bad for his health, then his doting aunt bought it for him. \n"
     ]
    }
   ],
   "source": [
    "print(data[\"Chapter_1\"])"
   ]
  },
  {
   "cell_type": "code",
   "execution_count": 5,
   "metadata": {},
   "outputs": [
    {
     "data": {
      "text/plain": [
       "13576"
      ]
     },
     "execution_count": 5,
     "metadata": {},
     "output_type": "execute_result"
    }
   ],
   "source": [
    "len(data[\"Chapter_1\"])"
   ]
  },
  {
   "cell_type": "code",
   "execution_count": 6,
   "metadata": {},
   "outputs": [
    {
     "data": {
      "text/plain": [
       "2395"
      ]
     },
     "execution_count": 6,
     "metadata": {},
     "output_type": "execute_result"
    }
   ],
   "source": [
    "split_data = data[\"Chapter_1\"].split(' ')\n",
    "len(split_data)"
   ]
  },
  {
   "cell_type": "code",
   "execution_count": 7,
   "metadata": {},
   "outputs": [
    {
     "data": {
      "text/plain": [
       "['It', 'had', 'been', 'a', 'long']"
      ]
     },
     "execution_count": 7,
     "metadata": {},
     "output_type": "execute_result"
    }
   ],
   "source": [
    "split_data[0:5]"
   ]
  },
  {
   "cell_type": "code",
   "execution_count": 8,
   "metadata": {},
   "outputs": [
    {
     "data": {
      "text/plain": [
       "[\"It had been a long and mentally trying day for Xavier, but the end was in sight. So far it had been nothing but the normal medical tests and his overprotective aunt trying to do everything for him. Same old, same old. The hum of his massive motorized wheelchair and the squeak of his aunt's shoes on polished floor lulled him into a strange state of detachment. He had been down this hall so many times that it had become rote.Lurking behind his aunt were six silent bodyguards. Xavier suspected they wouldn't make any noise if they tap-danced across broken glass. Ever present, silent watchers whose eyes never stopped evaluating everything around them for threats.He had lived with his aunt since he could remember. After all these years the permanent, unsmiling, besuited bodyguards had become a familiar part of the background. So much so that Xavier almost didn't notice when the guards opened the doors in front of him, checking for threats before they entered.It wasn't like he couldn't open the doors and walk through the hospital by himself. Well, he could, but the tendency for his skin to split open when he moved without his wheelchair and the tremendous pressure his bulk put on his bones kept him sitting still.Thankfully, there was some light at the end of the tunnel. After years of theories on what was wrong with him, the doctors thought that they had finally figured out a fix for his condition. As the elevator headed down to one of the basement floors for his final checks, Xavier couldn't help but be hopeful.A chime announced the arrival at their floor, and the soft hiss of the doors snapped Xavier out of his reverie. The long, neutral colored hall stretched out into the distance. Pale pastels, intended to be soothing, presented the promise of tedium and wasted time. The bland hall was currently full as a man in a delivery uniform struggled to push a massive crate down the corridor.At a touch from his aunt, Xavier's massive wheelchair hummed out of the elevator and down the hall, the large wheels squeaking against the hospital tile. Xavier looked up at the 8-foot ceiling, thankful that he was sitting. At least sitting down he did not have to duck. Silver linings, right?A nurse coming toward the elevator squeezed past the delivery man with a wheeled bed. Appreciating the soft curve of her backside, the delivery man leaned out for a second look as she passed him. Blocked by the large crate that was in his way, he leaned out to the side, causing his precariously balanced load to shift forward! Twisting to the side, the box began to topple toward the bed.The nurse heard the scrape of the box as it shifted and only had time for a gasp before it came crashing down. In a desperate attempt to shield her patient, she threw herself across the bed and closed her eyes, bracing herself for the pain she knew was coming.Yet the impending crash never came, and a couple seconds later she opened her eyes in confusion, looking up. And up. And up. Met with the sight of the largest person she had ever seen casually holding the massive crate, she stared in open-eyed amazement at the giant who had saved her.Dark hair cropped short above a massive face with a rugged brow and a strong jaw gave the intimation of attractiveness, yet the ideal was ruined by the skin that stretched across his cheekbones, pulling back on the corners of his eyes, nose, and mouth, creating a grotesque caricature of superman. Just bigger. Much, much bigger.The giant smiled at her and she smiled back, lost in the surreal situation until rapid red splashes snapped her out of it.\",\n",
       " \"Oh, you're bleeding!\",\n",
       " ' she mumbled, still half in shock as she watched blood rain down from the giant hand that gripped the edge of the box to join a pool of blood that was beginning to form around his feet.',\n",
       " 'Well, would you look at that?',\n",
       " ' responded Xavier, his deep bass voice echoing through the corridor as the bodyguards swarmed forward.Twenty minutes later, Xavier sat next to his aunt while a nurse finished taking care of his wound.',\n",
       " 'Always the hero,',\n",
       " ' Julia teased, poking at his broad shoulder. ',\n",
       " 'You should have left it up to the guards rather than hurting yourself.',\n",
       " '',\n",
       " \"You've taught me better than that,\"]"
      ]
     },
     "execution_count": 8,
     "metadata": {},
     "output_type": "execute_result"
    }
   ],
   "source": [
    "data[\"Chapter_1\"].split('\"')[:10]"
   ]
  },
  {
   "cell_type": "code",
   "execution_count": 15,
   "metadata": {},
   "outputs": [],
   "source": [
    "dialogues = re.compile('\"([^\"]*)\"')\n",
    "dias = dialogues.findall(data[\"Chapter_1\"])"
   ]
  },
  {
   "cell_type": "code",
   "execution_count": 17,
   "metadata": {},
   "outputs": [
    {
     "name": "stdout",
     "output_type": "stream",
     "text": [
      "Oh, you're bleeding!\n",
      "Well, would you look at that?\n",
      "Always the hero,\n",
      "You should have left it up to the guards rather than hurting yourself.\n",
      "You've taught me better than that,\n",
      " frame would ever imagine he was only 16 years old.After many years of testing and treatment that yielded no results, a fringe researcher had come up with an idea to help, and through cooperation with the Horizon facility, the doctor was here to suggest it.Going over the information again with Julia and Xavier, the doctor explained, \n",
      "\n",
      " the doctor turned to look at the giant boy. \n",
      "As you know, your cells are more robust than the average person's which is why we are so confident that the treatment will work. In layman's terms, the treatment will use nanites to restructure the way your cells bond across your body, increasing the strength and elasticity of your skin to the point where it will not tear, strengthening your bones so they can bear your weight, reducing the stress of gravity on your muscles.\n",
      "Third, your skin will loosen, as the nanites will be increasing the surface area of your skin. This should take care of the stretching issue you have without the need for plastic surgery. It will clear up all your stretch marks as well. Last, we anticipate that you will gain less than an inch in height. In fact, you might actually lose a tiny bit of height. This is partly because your tests have shown a clear downward trend in your body's growth hormone over the last few years. Also, because the nanites are going to be creating a very slight compression effect to increase your bone density, your body will be able to support your new weight.\n",
      "Taking a deep breath, the doctor looked between Xavier and his aunt. \n",
      "\n",
      " It took Xavier a couple moments to process before his deep voice rumbled out. \n",
      "\n",
      " The doctor jumped to his feet and grabbed a stack of papers from a cupboard, handing them to Xavier. \n",
      "In order to facilitate longer periods of uninterrupted gameplay, Horizon, the company that makes Nova Terra, has developed what they call 'extended suspension' through the use of special game pods that monitor the health of the user and provide nutrition, muscle stimulation, and waste removal. Think of it as an extended vacation from your body.\n",
      "You'll be playing a game for two years straight,\n",
      "Well, actually,\n",
      "You will be playing a game for 14 years due to the time dilation. Nova Terra has a pretty drastic time dilation at 7 to 1. So a single hour in the real world is equivalent to seven hours in Nova Terra.\n",
      "Wait, so I'm going to be 30 when I get out?\n",
      "No, no,\n",
      "You will be 18. Only two actual years will have passed. You will have a total of 30 years of memories when you include the 16 years you have already been alive. It is a pretty interesting phenomenon when you think about it, but it is actually completely natural. In the real world, it is called being in a Flow state, where time seems to shrink or stretch based on the activity you are doing. Nova Terra keeps you in a constant Flow state, stretching time so that you experience seven times as much as you would in the outside world.\n",
      "That does not seem safe at all.\n",
      "It is, though. The human brain is a magnificent thing, and we have almost thirty years of research and study that demonstrate no side effects from this. You do not need to worry.\n"
     ]
    }
   ],
   "source": [
    "for i in dias:\n",
    "    print(i)"
   ]
  },
  {
   "cell_type": "code",
   "execution_count": 36,
   "metadata": {},
   "outputs": [],
   "source": [
    "clean_inch = re.compile('(\\d)(\")')\n",
    "cleaner = clean_inch.search(data[\"Chapter_1\"])"
   ]
  },
  {
   "cell_type": "code",
   "execution_count": 37,
   "metadata": {},
   "outputs": [
    {
     "data": {
      "text/plain": [
       "'9'"
      ]
     },
     "execution_count": 37,
     "metadata": {},
     "output_type": "execute_result"
    }
   ],
   "source": [
    "cleaner.group(1)"
   ]
  },
  {
   "cell_type": "code",
   "execution_count": 38,
   "metadata": {},
   "outputs": [
    {
     "data": {
      "text/plain": [
       "'\"'"
      ]
     },
     "execution_count": 38,
     "metadata": {},
     "output_type": "execute_result"
    }
   ],
   "source": [
    "cleaner.group(2)"
   ]
  },
  {
   "cell_type": "code",
   "execution_count": 41,
   "metadata": {},
   "outputs": [
    {
     "data": {
      "text/plain": [
       "\"It had been a long and mentally trying day for Xavier, but the end was in sight. So far it had been nothing but the normal medical tests and his overprotective aunt trying to do everything for him. Same old, same old. The hum of his massive motorized wheelchair and the squeak of his aunt's shoes on polished floor lulled him into a strange state of detachment. He had been down this hall so many times that it had become rote.Lurking behind his aunt were six silent bodyguards. Xavier suspected they wouldn't make any noise if they tap-danced across broken glass. Ever present, silent watchers whose eyes never stopped evaluating everything around them for threats.He had lived with his aunt since he could remember. After all these years the permanent, unsmiling, besuited bodyguards had become a familiar part of the background. So much so that Xavier almost didn't notice when the guards opened the doors in front of him, checking for threats before they entered.It wasn't like he couldn't open the doors and walk through the hospital by himself. Well, he could, but the tendency for his skin to split open when he moved without his wheelchair and the tremendous pressure his bulk put on his bones kept him sitting still.Thankfully, there was some light at the end of the tunnel. After years of theories on what was wrong with him, the doctors thought that they had finally figured out a fix for his condition. As the elevator headed down to one of the basement floors for his final checks, Xavier couldn't help but be hopeful.A chime announced the arrival at their floor, and the soft hiss of the doors snapped Xavier out of his reverie. The long, neutral colored hall stretched out into the distance. Pale pastels, intended to be soothing, presented the promise of tedium and wasted time. The bland hall was currently full as a man in a delivery uniform struggled to push a massive crate down the corridor.At a touch from his aunt, Xavier's massive wheelchair hummed out of the elevator and down the hall, the large wheels squeaking against the hospital tile. Xavier looked up at the 8-foot ceiling, thankful that he was sitting. At least sitting down he did not have to duck. Silver linings, right?A nurse coming toward the elevator squeezed past the delivery man with a wheeled bed. Appreciating the soft curve of her backside, the delivery man leaned out for a second look as she passed him. Blocked by the large crate that was in his way, he leaned out to the side, causing his precariously balanced load to shift forward! Twisting to the side, the box began to topple toward the bed.The nurse heard the scrape of the box as it shifted and only had time for a gasp before it came crashing down. In a desperate attempt to shield her patient, she threw herself across the bed and closed her eyes, bracing herself for the pain she knew was coming.Yet the impending crash never came, and a couple seconds later she opened her eyes in confusion, looking up. And up. And up. Met with the sight of the largest person she had ever seen casually holding the massive crate, she stared in open-eyed amazement at the giant who had saved her.Dark hair cropped short above a massive face with a rugged brow and a strong jaw gave the intimation of attractiveness, yet the ideal was ruined by the skin that stretched across his cheekbones, pulling back on the corners of his eyes, nose, and mouth, creating a grotesque caricature of superman. Just bigger. Much, much bigger.The giant smiled at her and she smiled back, lost in the surreal situation until rapid red splashes snapped her out of it. inchesOh, you're bleeding! inches she mumbled, still half in shock as she watched blood rain down from the giant hand that gripped the edge of the box to join a pool of blood that was beginning to form around his feet. inchesWell, would you look at that? inches responded Xavier, his deep bass voice echoing through the corridor as the bodyguards swarmed forward.Twenty minutes later, Xavier sat next to his aunt while a nurse finished taking care of his wound. inchesAlways the hero, inches Julia teased, poking at his broad shoulder.  inchesYou should have left it up to the guards rather than hurting yourself. inches inchesYou've taught me better than that, inches Xavier said with a slight smile.Soon the doctor arrived and sat down next to Julia, handing her a large stack of papers. Xavier stayed in his wheelchair to avoid towering over the other two or breaking a chair. His hand had been bandaged to prevent additional blood loss, and a nurse had finished taking a blood sample to run some more tests. Holding his bandaged hand to keep the bleeding from starting again, Xavier looked at the doctor with some interest. Rather than the normal boring tests, it seemed from the doctor's expression that something new was going to happen, and whatever it was, it would be a welcome break from the monotony of his normal routine.Ever since he was little and his condition was discovered, Xavier had been stuck in the same routine. Sitting, studying, slow Taijiquan exercises, and doctor's tests. The school and Taijiquan practice were not so bad, but after so many years the sitting and doctor's exams were starting to wear on him. There was very little excitement in his life, a fact that made him hyper-aware of any changes. Speaking of changes, his aunt had been trying to hide something from him, a birthday present most likely, and Xavier wondered if the visit today had something to do with it.For a moment, his thoughts went back to what had happened, and he wondered about the identity of the girl who had been lying on the bed. She was quite attractive and young-looking, though he had a lot of trouble guessing people's ages, as everyone looked rather childish from his perspective. It went without saying that the world looked quite different from his height.As they had progressed down the hall, he had noticed the slight shift in the massive crate and knew it would fall. He had been able to speed up his chair to get close and his arms were long enough to catch the crate as it tipped. The simple motion of catching the crate had put a deep cut into his palm, as his thin skin was stretched so tight it was unable to bear the pressure. The resulting cut brought pain and blood, but at least the others were safe. The pain was nothing to sneeze at, but a lifetime of such injuries had made Xavier all but immune to the feeling.The doctor looked at Xavier and his aunt, Julia Lee, pushing his glasses back on his nose. As Xavier's only surviving relative, Julia still had custody of Xavier until he turned 18 in two years, though no one looking at Xavier's 8' 9 inches frame would ever imagine he was only 16 years old.After many years of testing and treatment that yielded no results, a fringe researcher had come up with an idea to help, and through cooperation with the Horizon facility, the doctor was here to suggest it.Going over the information again with Julia and Xavier, the doctor explained,  inchesEven though we've talked through this exhaustively, Ms. Lee, I still have to take Xavier through the process for the sake of both our legal rights. inches inchesXavier, inches the doctor turned to look at the giant boy.  inchesIf you choose to proceed, you will be undergoing a new type of nanodermatology treatment that is being referred to as CNB, Cutaneous Nanite Bonding. It is a new treatment that has been pioneered by a medical research facility in Switzerland. While it has not been cleared for general use, you have been approved to receive the treatment because it was actually developed using your body as a model. We've been aware of this treatment for a couple years but have been hesitant to suggest it because of your accelerated growth rate. Your tests over the last year have shown a significant decrease in growth so it became an option. inchesAs you know, your cells are more robust than the average person's which is why we are so confident that the treatment will work. In layman's terms, the treatment will use nanites to restructure the way your cells bond across your body, increasing the strength and elasticity of your skin to the point where it will not tear, strengthening your bones so they can bear your weight, reducing the stress of gravity on your muscles. inchesAt the end of this process, we expect four things. First, your body is going to increase in density. Much more so than the average person's. This will be due to the way the nanites are restructuring you. Second, your body will be able to support its weight without issue, despite the fact that your weight will be increasing due to the density gain. That means walking, running, all those activities that are not possible for you unassisted, will be possible. inchesThird, your skin will loosen, as the nanites will be increasing the surface area of your skin. This should take care of the stretching issue you have without the need for plastic surgery. It will clear up all your stretch marks as well. Last, we anticipate that you will gain less than an inch in height. In fact, you might actually lose a tiny bit of height. This is partly because your tests have shown a clear downward trend in your body's growth hormone over the last few years. Also, because the nanites are going to be creating a very slight compression effect to increase your bone density, your body will be able to support your new weight. inchesWhile this process is ongoing the nanites need to be working 24/7. To that end, our recommendation is that you enter a two year suspended state in the alternate reality of Nova Terra while being monitored by our staff. There have been no problems found with extended suspension and it has been very helpful in long-term treatments of other illnesses, so you have very little to worry about. inchesTaking a deep breath, the doctor looked between Xavier and his aunt.  inchesI know it is a lot to take in, but how does all of this sound? Do you have any questions or concerns? inches inchesIt is a bit overwhelming, truthfully. inches It took Xavier a couple moments to process before his deep voice rumbled out.  inchesSo I'm going to be dead to the world, out for two years? inches inchesAh, not quite, inches The doctor jumped to his feet and grabbed a stack of papers from a cupboard, handing them to Xavier.  inchesSuspended animation is a bit different from what you see in the movies. The classic example is someone frozen in ice for some time and then thawed out later, right? That is not what we are talking about. With the advent of Nova Terra, technology has developed to the point where we can take an individual's mind to a new world, leaving their body behind for a short period of time. inchesIn order to facilitate longer periods of uninterrupted gameplay, Horizon, the company that makes Nova Terra, has developed what they call 'extended suspension' through the use of special game pods that monitor the health of the user and provide nutrition, muscle stimulation, and waste removal. Think of it as an extended vacation from your body. inches inchesYou'll be playing a game for two years straight, inches cut in Julia. inchesWell, actually, inches the doctor said, holding up a finger,  inchesYou will be playing a game for 14 years due to the time dilation. Nova Terra has a pretty drastic time dilation at 7 to 1. So a single hour in the real world is equivalent to seven hours in Nova Terra. inches inchesWait, so I'm going to be 30 when I get out? inches Xavier asked, horrified. inchesNo, no, inches the doctor laughed, waving his hands.  inchesYou will be 18. Only two actual years will have passed. You will have a total of 30 years of memories when you include the 16 years you have already been alive. It is a pretty interesting phenomenon when you think about it, but it is actually completely natural. In the real world, it is called being in a Flow state, where time seems to shrink or stretch based on the activity you are doing. Nova Terra keeps you in a constant Flow state, stretching time so that you experience seven times as much as you would in the outside world. inches inchesThat does not seem safe at all. inches inchesIt is, though. The human brain is a magnificent thing, and we have almost thirty years of research and study that demonstrate no side effects from this. You do not need to worry. inchesXavier had something of a love-hate relationship with games, especially with the full immersion games that had come out within the last twenty years. While he had the mental capacity for any game he could get his hands on, he was hampered by the fact that all of the full immersion games stimulated the muscles of the player to prevent atrophy, which, in his case, would result in his skin being destroyed.Still, Xavier was exceptionally bright. Julia's work brought her into contact with many geniuses in every field and Xavier, who often accompanied her, never had any trouble keeping up with them. Despite his youth, he had finished primary and secondary school years ago and had even completed two degrees, one in Business Management and another in Urban Planning. After all, what else is there to do besides school when you could not move about?It was a shame that, despite his smarts, he was unable to live as a normal person. Xavier had long dreamed of being able to see the new worlds that virtual reality had begun to offer, which made this idea immediately attractive. Xavier glanced at his aunt, who was watching him, trying to guess his feelings about this.Xavier couldn't help himself and let a smile spread across his face. Up to this point, his life had been tedious. It wasn't as if he lacked for anything, no it was the opposite. There was no struggle, no effort needed. If he wanted something, and it wasn't bad for his health, then his doting aunt bought it for him.\\xa0\""
      ]
     },
     "execution_count": 41,
     "metadata": {},
     "output_type": "execute_result"
    }
   ],
   "source": [
    "re.sub(cleaner.group(2), ' inches', data['Chapter_1'])"
   ]
  },
  {
   "cell_type": "code",
   "execution_count": 1,
   "metadata": {},
   "outputs": [
    {
     "output_type": "error",
     "ename": "NameError",
     "evalue": "name 'data' is not defined",
     "traceback": [
      "\u001b[1;31m---------------------------------------------------------------------------\u001b[0m",
      "\u001b[1;31mNameError\u001b[0m                                 Traceback (most recent call last)",
      "\u001b[1;32m<ipython-input-1-6dba29b050ac>\u001b[0m in \u001b[0;36m<module>\u001b[1;34m\u001b[0m\n\u001b[1;32m----> 1\u001b[1;33m \u001b[0mprint\u001b[0m\u001b[1;33m(\u001b[0m\u001b[0mdata\u001b[0m\u001b[1;33m[\u001b[0m\u001b[1;34m\"Chapter_2\"\u001b[0m\u001b[1;33m]\u001b[0m\u001b[1;33m)\u001b[0m\u001b[1;33m\u001b[0m\u001b[1;33m\u001b[0m\u001b[0m\n\u001b[0m",
      "\u001b[1;31mNameError\u001b[0m: name 'data' is not defined"
     ]
    }
   ],
   "source": [
    "print(data[\"Chapter_2\"])"
   ]
  },
  {
   "cell_type": "code",
   "execution_count": null,
   "metadata": {},
   "outputs": [],
   "source": []
  }
 ],
 "metadata": {
  "kernelspec": {
   "display_name": "Python 3.8.3 64-bit ('teej': virtualenv)",
   "language": "python",
   "name": "python_defaultSpec_1601975575830"
  },
  "language_info": {
   "codemirror_mode": {
    "name": "ipython",
    "version": 3
   },
   "file_extension": ".py",
   "mimetype": "text/x-python",
   "name": "python",
   "nbconvert_exporter": "python",
   "pygments_lexer": "ipython3",
   "version": "3.8.3-final"
  }
 },
 "nbformat": 4,
 "nbformat_minor": 4
}